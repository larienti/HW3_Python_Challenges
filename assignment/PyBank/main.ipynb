{
 "cells": [
  {
   "cell_type": "code",
   "execution_count": 52,
   "metadata": {},
   "outputs": [
    {
     "name": "stdout",
     "output_type": "stream",
     "text": [
      "Financial Analysis\n",
      "----------------------------\n",
      "Total Months: 86\n",
      "Total Profit: $38382578\n",
      "Average  Change: $446309.05\n",
      "Greatest Increase in Profits: Feb-2012 with $1170593\n",
      "Greatest Decrease in Profits: Sep-2013 with $-1196225\n"
     ]
    }
   ],
   "source": [
    "import os\n",
    "import csv\n",
    "\n",
    "#declare variables to show what we will be looking for\n",
    "month_counter=0\n",
    "net_profit=0\n",
    "avg_monthly_profit=0\n",
    "greatest_monthly_profit=0\n",
    "most_profitable_month=''\n",
    "greatest_monthly_losses=0\n",
    "least_profitable_month=''\n",
    "\n",
    "budget_csv = os.path.join('.', 'Resources', 'budget_data.csv')\n",
    "\n",
    "with open(budget_csv) as csvfile:\n",
    "    csvreader = csv.reader(csvfile, delimiter=',')\n",
    "    #move past header row\n",
    "    csv_header = next(csvreader)\n",
    "    ##print(f\"Header: {csv_header}\")\n",
    "    \n",
    "    #Print data rows\n",
    "    for row in csvreader:\n",
    "        month_counter=month_counter+1\n",
    "        monthly_profits=int(row[1]) #cast row column 2, [1] as an int \n",
    "        net_profit=net_profit+monthly_profits \n",
    "        if(monthly_profits>greatest_monthly_profit):\n",
    "            greatest_monthly_profit=monthly_profits\n",
    "            most_profitable_month=row[0]\n",
    "        if(monthly_profits<greatest_monthly_losses):\n",
    "            greatest_monthly_losses=monthly_profits\n",
    "            least_profitable_month=row[0]\n",
    "\n",
    "#Print and output to text file\n",
    "avg_monthly_profit= round(net_profit/month_counter,2)\n",
    "print('Financial Analysis')\n",
    "print('----------------------------')\n",
    "print(f'Total Months: {month_counter}')\n",
    "print(f'Total Profit: ${net_profit}')\n",
    "print(f'Average  Change: ${avg_monthly_profit}')\n",
    "print(f'Greatest Increase in Profits: {most_profitable_month} with ${greatest_monthly_profit}')\n",
    "print(f'Greatest Decrease in Profits: {least_profitable_month} with ${greatest_monthly_losses}')\n",
    "\n",
    "bankpy_output = open(\"bankpy_output.txt\",\"a\")#append mode. It could be useful to use a different mode like rewriting the whole file each time it is run\n",
    "bankpy_output.write(\"Financial Analysis \\n\") \n",
    "bankpy_output.write(\"---------------------------- \\n\") \n",
    "bankpy_output.write(f'Total Months: {month_counter} \\n') \n",
    "bankpy_output.write(f'Total Profit: ${net_profit} \\n') \n",
    "bankpy_output.write(f'Average  Change: ${avg_monthly_profit} \\n') \n",
    "bankpy_output.write(f'Greatest Increase in Profits: {most_profitable_month} with ${greatest_monthly_profit} \\n')\n",
    "bankpy_output.write(f'Greatest Decrease in Profits: {least_profitable_month} with ${greatest_monthly_losses} \\n')\n",
    "\n",
    "bankpy_output.close()"
   ]
  },
  {
   "cell_type": "code",
   "execution_count": null,
   "metadata": {},
   "outputs": [],
   "source": []
  }
 ],
 "metadata": {
  "kernelspec": {
   "display_name": "Python [conda env:Pythondata]",
   "language": "python",
   "name": "conda-env-Pythondata-py"
  },
  "language_info": {
   "codemirror_mode": {
    "name": "ipython",
    "version": 3
   },
   "file_extension": ".py",
   "mimetype": "text/x-python",
   "name": "python",
   "nbconvert_exporter": "python",
   "pygments_lexer": "ipython3",
   "version": "3.7.6"
  }
 },
 "nbformat": 4,
 "nbformat_minor": 2
}
