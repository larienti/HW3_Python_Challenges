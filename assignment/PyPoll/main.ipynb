{
 "cells": [
  {
   "cell_type": "code",
   "execution_count": 7,
   "metadata": {},
   "outputs": [
    {
     "name": "stdout",
     "output_type": "stream",
     "text": [
      "Khan Marsh received 1427142 votes which is 40.5 % of the total\n",
      "Correy Marsh received 453015 votes which is 12.9 % of the total\n",
      "Khan Queen received 439494 votes which is 12.5 % of the total\n",
      "Li Marsh received 317651 votes which is 9.0 % of the total\n",
      "Correy Queen received 139554 votes which is 4.0 % of the total\n",
      "Correy Bamoo received 69752 votes which is 2.0 % of the total\n",
      "Khan Trandee received 65939 votes which is 1.9 % of the total\n",
      "Khan Raffah received 65822 votes which is 1.9 % of the total\n",
      "O'Tooley Bamoo received 10433 votes which is 0.3 % of the total\n",
      "Li Bamoo received 48639 votes which is 1.4000000000000001 % of the total\n",
      "Khan Bamoo received 219834 votes which is 6.2 % of the total\n",
      "O'Tooley Queen received 20850 votes which is 0.6 % of the total\n",
      "Li Queen received 97305 votes which is 2.8000000000000003 % of the total\n",
      "Li Raffah received 14604 votes which is 0.4 % of the total\n",
      "Correy Raffah received 21055 votes which is 0.6 % of the total\n",
      "O'Tooley Marsh received 68149 votes which is 1.9 % of the total\n",
      "Correy Trandee received 20824 votes which is 0.6 % of the total\n",
      "Li Trandee received 14741 votes which is 0.4 % of the total\n",
      "O'Tooley Trandee received 3113 votes which is 0.1 % of the total\n",
      "O'Tooley Raffah received 3085 votes which is 0.1 % of the total\n",
      "Khan Marsh is the winner of the election\n"
     ]
    }
   ],
   "source": [
    "import os\n",
    "import csv\n",
    "\n",
    "poll_csv = os.path.join('.', 'Resources', 'election_data.csv')\n",
    "\n",
    "#let's declare variables to keep track of what we are measuring\n",
    "total_votes=0\n",
    "#all_candidates=[]\n",
    "votedict = dict()\n",
    "\n",
    "with open(poll_csv) as csvfile:\n",
    "    csvreader = csv.reader(csvfile, delimiter=',')\n",
    "    #move past header row\n",
    "    csv_header = next(csvreader)\n",
    "    \n",
    "    #Print data rows\n",
    "    for row in csvreader:\n",
    "        total_votes=total_votes+1\n",
    "        candidate = row[2]+' '+row[1]\n",
    "        #if candidate not in all_candidates:\n",
    "            #all_candidates.append(candidate)\n",
    "        #increment vote if candidate is recognized\n",
    "        if candidate in votedict: \n",
    "            votedict[candidate] = votedict[candidate] + 1\n",
    "        else: \n",
    "            #Add candidate with one vote\n",
    "            votedict[candidate] = 1\n",
    "    winner=candidate\n",
    "    for key in list(votedict.keys()): \n",
    "        print(key, \"received\", votedict[key],'votes which is', 100*round((votedict[key]/total_votes),3),'% of the total')\n",
    "        if votedict[key] > votedict[winner]:\n",
    "            winner=key\n",
    "    print(winner, 'is the winner of the election')\n",
    "    \n",
    "pollpy_output = open(\"pollpy_output.txt\",\"a\")#append mode\n",
    "pollpy_output.write(\"Election Results \\n\") \n",
    "pollpy_output.write(\"---------------------------- \\n\") \n",
    "pollpy_output.write(f\"{total_votes} total votes \\n\") \n",
    "pollpy_output.write(\"---------------------------- \\n\") \n",
    "for key in list(votedict.keys()):\n",
    "    pollpy_output.write(f\"{key} received {votedict[key]} votes which is {100*round((votedict[key]/total_votes),3)}% of the total \\n\") \n",
    "pollpy_output.write(\"---------------------------- \\n\") \n",
    "pollpy_output.write(f\"{winner} wins the election \\n\") \n",
    "pollpy_output.write(\"---------------------------- \\n\") \n",
    "pollpy_output.close()"
   ]
  },
  {
   "cell_type": "code",
   "execution_count": null,
   "metadata": {},
   "outputs": [],
   "source": []
  }
 ],
 "metadata": {
  "kernelspec": {
   "display_name": "Python [conda env:Pythondata]",
   "language": "python",
   "name": "conda-env-Pythondata-py"
  },
  "language_info": {
   "codemirror_mode": {
    "name": "ipython",
    "version": 3
   },
   "file_extension": ".py",
   "mimetype": "text/x-python",
   "name": "python",
   "nbconvert_exporter": "python",
   "pygments_lexer": "ipython3",
   "version": "3.7.6"
  }
 },
 "nbformat": 4,
 "nbformat_minor": 2
}
