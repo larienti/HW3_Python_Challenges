{
 "cells": [
  {
   "cell_type": "code",
   "execution_count": 8,
   "metadata": {},
   "outputs": [
    {
     "name": "stdout",
     "output_type": "stream",
     "text": [
      "Khan received 2218231 votes which is 63.0 % of the total\n",
      "Correy received 704200 votes which is 20.0 % of the total\n",
      "Li received 492940 votes which is 14.000000000000002 % of the total\n",
      "O'Tooley received 105630 votes which is 3.0 % of the total\n",
      "Khan is the winner of the election\n"
     ]
    }
   ],
   "source": [
    "import os\n",
    "import csv\n",
    "\n",
    "poll_csv = os.path.join('.', 'Resources', 'election_data.csv')\n",
    "\n",
    "#let's declare variables to keep track of what we are measuring\n",
    "total_votes=0\n",
    "#all_candidates=[]\n",
    "votedict = dict()\n",
    "\n",
    "with open(poll_csv) as csvfile:\n",
    "    csvreader = csv.reader(csvfile, delimiter=',')\n",
    "    #move past header row\n",
    "    csv_header = next(csvreader)\n",
    "    \n",
    "    #Print data rows\n",
    "    for row in csvreader:\n",
    "        total_votes=total_votes+1\n",
    "        candidate = row[2]\n",
    "        #if candidate not in all_candidates:\n",
    "            #all_candidates.append(candidate)\n",
    "        #increment vote if candidate is recognized\n",
    "        if candidate in votedict: \n",
    "            votedict[candidate] = votedict[candidate] + 1\n",
    "        else: \n",
    "            #Add candidate with one vote\n",
    "            votedict[candidate] = 1\n",
    "    winner=candidate\n",
    "    for key in list(votedict.keys()): \n",
    "        print(key, \"received\", votedict[key],'votes which is', 100*round((votedict[key]/total_votes),3),'% of the total')\n",
    "        if votedict[key] > votedict[winner]:\n",
    "            winner=key\n",
    "    print(winner, 'is the winner of the election')\n",
    "    \n",
    "pollpy_output = open(\"pollpy_output.txt\",\"a\")#append mode\n",
    "pollpy_output.write(\"Election Results \\n\") \n",
    "pollpy_output.write(\"---------------------------- \\n\") \n",
    "pollpy_output.write(f\"{total_votes} total votes \\n\") \n",
    "pollpy_output.write(\"---------------------------- \\n\") \n",
    "for key in list(votedict.keys()):\n",
    "    pollpy_output.write(f\"{key} received {votedict[key]} votes which is {100*round((votedict[key]/total_votes),3)}% of the total \\n\") \n",
    "pollpy_output.write(\"---------------------------- \\n\") \n",
    "pollpy_output.write(f\"{winner} wins the election \\n\") \n",
    "pollpy_output.write(\"---------------------------- \\n\") \n",
    "pollpy_output.close()"
   ]
  },
  {
   "cell_type": "code",
   "execution_count": null,
   "metadata": {},
   "outputs": [],
   "source": []
  }
 ],
 "metadata": {
  "kernelspec": {
   "display_name": "Python [conda env:Pythondata]",
   "language": "python",
   "name": "conda-env-Pythondata-py"
  },
  "language_info": {
   "codemirror_mode": {
    "name": "ipython",
    "version": 3
   },
   "file_extension": ".py",
   "mimetype": "text/x-python",
   "name": "python",
   "nbconvert_exporter": "python",
   "pygments_lexer": "ipython3",
   "version": "3.7.6"
  }
 },
 "nbformat": 4,
 "nbformat_minor": 2
}
